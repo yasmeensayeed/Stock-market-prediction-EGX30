{
 "cells": [
  {
   "cell_type": "code",
   "execution_count": 1,
   "id": "91e7f28f",
   "metadata": {
    "_cell_guid": "b1076dfc-b9ad-4769-8c92-a6c4dae69d19",
    "_uuid": "8f2839f25d086af736a60e9eeb907d3b93b6e0e5",
    "execution": {
     "iopub.execute_input": "2025-02-20T20:59:52.277203Z",
     "iopub.status.busy": "2025-02-20T20:59:52.276771Z",
     "iopub.status.idle": "2025-02-20T20:59:53.225246Z",
     "shell.execute_reply": "2025-02-20T20:59:53.224150Z"
    },
    "papermill": {
     "duration": 0.958099,
     "end_time": "2025-02-20T20:59:53.227123",
     "exception": false,
     "start_time": "2025-02-20T20:59:52.269024",
     "status": "completed"
    },
    "tags": []
   },
   "outputs": [],
   "source": [
    "import numpy as np # linear algebra\n",
    "import pandas as pd # data processing, CSV file I/O (e.g. pd.read_csv)\n",
    "\n"
   ]
  },
  {
   "cell_type": "markdown",
   "id": "53611696",
   "metadata": {},
   "source": [
    "## Preprocessing"
   ]
  },
  {
   "cell_type": "code",
   "execution_count": 2,
   "id": "b79041e7",
   "metadata": {
    "execution": {
     "iopub.execute_input": "2025-02-20T20:59:53.240588Z",
     "iopub.status.busy": "2025-02-20T20:59:53.240086Z",
     "iopub.status.idle": "2025-02-20T20:59:53.298189Z",
     "shell.execute_reply": "2025-02-20T20:59:53.296734Z"
    },
    "papermill": {
     "duration": 0.066627,
     "end_time": "2025-02-20T20:59:53.299983",
     "exception": false,
     "start_time": "2025-02-20T20:59:53.233356",
     "status": "completed"
    },
    "tags": []
   },
   "outputs": [
    {
     "name": "stdout",
     "output_type": "stream",
     "text": [
      "       Date      Price       Open       High        Low     Vol. Change %\n",
      "0  2/6/2025  30,011.84  29,735.59  30,011.84  29,735.59   83.50M    0.93%\n",
      "1  2/5/2025  29,735.59  29,668.47  29,772.63  29,596.50  103.71M    0.23%\n",
      "2  2/4/2025  29,668.47  29,754.77  29,937.39  29,668.47  135.05M   -0.29%\n",
      "3  2/3/2025  29,754.77  29,917.96  30,001.23  29,698.79  152.06M   -0.55%\n",
      "4  2/2/2025  29,917.96  30,010.62  30,198.22  29,917.96  103.16M   -0.31%\n"
     ]
    }
   ],
   "source": [
    "# Load the CSV file\n",
    "file_path = \"EGX30_2000-2025.csv\"\n",
    "df = pd.read_csv(file_path)\n",
    "\n",
    "# Display the first few rows\n",
    "print(df.head())\n"
   ]
  },
  {
   "cell_type": "markdown",
   "id": "57a6f2c6",
   "metadata": {
    "papermill": {
     "duration": 0.005592,
     "end_time": "2025-02-20T20:59:53.311598",
     "exception": false,
     "start_time": "2025-02-20T20:59:53.306006",
     "status": "completed"
    },
    "tags": []
   },
   "source": [
    "**Date:** The trading date of the EGX30 index (formatted as MM/DD/YYYY).\n",
    "\n",
    "**Price:** The closing price of the EGX30 index on that particular day.\n",
    "\n",
    "**Open:** The opening price of the EGX30 index at the start of the trading session.\n",
    "\n",
    "**High:** The highest price the EGX30 index reached during the trading session.\n",
    "\n",
    "**Low:** The lowest price the EGX30 index reached during the trading session.\n",
    "\n",
    "**Vol. (Volume):** The total number of shares traded during that day.\n",
    "\n",
    "**Change %:** The percentage change in the EGX30 index compared to the previous trading day's closing price."
   ]
  },
  {
   "cell_type": "code",
   "execution_count": 3,
   "id": "8d147624",
   "metadata": {
    "execution": {
     "iopub.execute_input": "2025-02-20T20:59:53.324605Z",
     "iopub.status.busy": "2025-02-20T20:59:53.324248Z",
     "iopub.status.idle": "2025-02-20T20:59:53.348326Z",
     "shell.execute_reply": "2025-02-20T20:59:53.347160Z"
    },
    "papermill": {
     "duration": 0.032786,
     "end_time": "2025-02-20T20:59:53.350195",
     "exception": false,
     "start_time": "2025-02-20T20:59:53.317409",
     "status": "completed"
    },
    "tags": []
   },
   "outputs": [],
   "source": [
    "# # Convert 'Date' to datetime\n",
    "df['Date'] = pd.to_datetime(df['Date'])\n"
   ]
  },
  {
   "cell_type": "code",
   "execution_count": 4,
   "id": "decda970",
   "metadata": {
    "execution": {
     "iopub.execute_input": "2025-02-20T20:59:53.400686Z",
     "iopub.status.busy": "2025-02-20T20:59:53.400340Z",
     "iopub.status.idle": "2025-02-20T20:59:53.411438Z",
     "shell.execute_reply": "2025-02-20T20:59:53.410138Z"
    },
    "papermill": {
     "duration": 0.01982,
     "end_time": "2025-02-20T20:59:53.413347",
     "exception": false,
     "start_time": "2025-02-20T20:59:53.393527",
     "status": "completed"
    },
    "tags": []
   },
   "outputs": [
    {
     "name": "stdout",
     "output_type": "stream",
     "text": [
      "        Date      Price       Open       High        Low     Vol. Change %\n",
      "0 2025-02-06  30,011.84  29,735.59  30,011.84  29,735.59   83.50M    0.93%\n",
      "1 2025-02-05  29,735.59  29,668.47  29,772.63  29,596.50  103.71M    0.23%\n",
      "2 2025-02-04  29,668.47  29,754.77  29,937.39  29,668.47  135.05M   -0.29%\n",
      "3 2025-02-03  29,754.77  29,917.96  30,001.23  29,698.79  152.06M   -0.55%\n",
      "4 2025-02-02  29,917.96  30,010.62  30,198.22  29,917.96  103.16M   -0.31%\n"
     ]
    }
   ],
   "source": [
    "print(df.head())\n"
   ]
  },
  {
   "cell_type": "code",
   "execution_count": 5,
   "id": "64566104",
   "metadata": {
    "execution": {
     "iopub.execute_input": "2025-02-20T20:59:53.426921Z",
     "iopub.status.busy": "2025-02-20T20:59:53.426537Z",
     "iopub.status.idle": "2025-02-20T20:59:53.452484Z",
     "shell.execute_reply": "2025-02-20T20:59:53.451124Z"
    },
    "papermill": {
     "duration": 0.034495,
     "end_time": "2025-02-20T20:59:53.454125",
     "exception": false,
     "start_time": "2025-02-20T20:59:53.419630",
     "status": "completed"
    },
    "tags": []
   },
   "outputs": [
    {
     "name": "stdout",
     "output_type": "stream",
     "text": [
      "<class 'pandas.core.frame.DataFrame'>\n",
      "RangeIndex: 6106 entries, 0 to 6105\n",
      "Data columns (total 7 columns):\n",
      " #   Column    Non-Null Count  Dtype         \n",
      "---  ------    --------------  -----         \n",
      " 0   Date      6106 non-null   datetime64[ns]\n",
      " 1   Price     6106 non-null   object        \n",
      " 2   Open      6106 non-null   object        \n",
      " 3   High      6106 non-null   object        \n",
      " 4   Low       6106 non-null   object        \n",
      " 5   Vol.      3906 non-null   object        \n",
      " 6   Change %  6106 non-null   object        \n",
      "dtypes: datetime64[ns](1), object(6)\n",
      "memory usage: 334.0+ KB\n",
      "None\n"
     ]
    }
   ],
   "source": [
    "print(df.info())\n",
    "\n"
   ]
  },
  {
   "cell_type": "code",
   "execution_count": 6,
   "id": "2d32ea56",
   "metadata": {
    "execution": {
     "iopub.execute_input": "2025-02-20T20:59:53.467983Z",
     "iopub.status.busy": "2025-02-20T20:59:53.467634Z",
     "iopub.status.idle": "2025-02-20T20:59:53.480194Z",
     "shell.execute_reply": "2025-02-20T20:59:53.478945Z"
    },
    "papermill": {
     "duration": 0.021537,
     "end_time": "2025-02-20T20:59:53.481850",
     "exception": false,
     "start_time": "2025-02-20T20:59:53.460313",
     "status": "completed"
    },
    "tags": []
   },
   "outputs": [
    {
     "name": "stdout",
     "output_type": "stream",
     "text": [
      "                                Date\n",
      "count                           6106\n",
      "mean   2012-07-24 03:15:30.363576832\n",
      "min              2000-02-06 00:00:00\n",
      "25%              2006-04-06 18:00:00\n",
      "50%              2012-07-29 12:00:00\n",
      "75%              2018-10-29 18:00:00\n",
      "max              2025-02-06 00:00:00\n"
     ]
    }
   ],
   "source": [
    "print(df.describe())"
   ]
  },
  {
   "cell_type": "code",
   "execution_count": 7,
   "id": "b023d2b0",
   "metadata": {
    "execution": {
     "iopub.execute_input": "2025-02-20T20:59:53.495336Z",
     "iopub.status.busy": "2025-02-20T20:59:53.494996Z",
     "iopub.status.idle": "2025-02-20T20:59:53.523743Z",
     "shell.execute_reply": "2025-02-20T20:59:53.522803Z"
    },
    "papermill": {
     "duration": 0.037785,
     "end_time": "2025-02-20T20:59:53.525781",
     "exception": false,
     "start_time": "2025-02-20T20:59:53.487996",
     "status": "completed"
    },
    "tags": []
   },
   "outputs": [],
   "source": [
    "# Convert numerical columns by removing commas and converting to float\n",
    "cols_to_convert = ['Price', 'Open', 'High', 'Low']\n",
    "df[cols_to_convert] = df[cols_to_convert].replace(',', '', regex=True).astype(float)"
   ]
  },
  {
   "cell_type": "code",
   "execution_count": 8,
   "id": "6c067c30",
   "metadata": {
    "execution": {
     "iopub.execute_input": "2025-02-20T20:59:53.539335Z",
     "iopub.status.busy": "2025-02-20T20:59:53.538987Z",
     "iopub.status.idle": "2025-02-20T20:59:53.549490Z",
     "shell.execute_reply": "2025-02-20T20:59:53.548363Z"
    },
    "papermill": {
     "duration": 0.019222,
     "end_time": "2025-02-20T20:59:53.551337",
     "exception": false,
     "start_time": "2025-02-20T20:59:53.532115",
     "status": "completed"
    },
    "tags": []
   },
   "outputs": [],
   "source": [
    "# Convert Change % column (remove '%' and convert to decimal)\n",
    "df['Change %'] = df['Change %'].str.replace('%', '', regex=True).astype(float) / 100"
   ]
  },
  {
   "cell_type": "code",
   "execution_count": 9,
   "id": "f40dd2e0",
   "metadata": {
    "execution": {
     "iopub.execute_input": "2025-02-20T20:59:53.564881Z",
     "iopub.status.busy": "2025-02-20T20:59:53.564480Z",
     "iopub.status.idle": "2025-02-20T20:59:53.574127Z",
     "shell.execute_reply": "2025-02-20T20:59:53.573156Z"
    },
    "papermill": {
     "duration": 0.018239,
     "end_time": "2025-02-20T20:59:53.575765",
     "exception": false,
     "start_time": "2025-02-20T20:59:53.557526",
     "status": "completed"
    },
    "tags": []
   },
   "outputs": [],
   "source": [
    "\n",
    "def convert_vol(value):\n",
    "    if isinstance(value, str):  # Ensure value is a string\n",
    "        if 'M' in value:\n",
    "            return float(value.replace('M', '')) * 1_000_000\n",
    "        elif 'B' in value:\n",
    "            return float(value.replace('B', '')) * 1_000_000_000\n",
    "        else:\n",
    "            return float(value)  # Convert numbers stored as strings\n",
    "    return value  # Return original if already float or NaN\n",
    "\n",
    "df['Vol.'] = df['Vol.'].apply(convert_vol)\n",
    "\n"
   ]
  },
  {
   "cell_type": "code",
   "execution_count": 10,
   "id": "8f38154f",
   "metadata": {
    "execution": {
     "iopub.execute_input": "2025-02-20T20:59:53.589448Z",
     "iopub.status.busy": "2025-02-20T20:59:53.589008Z",
     "iopub.status.idle": "2025-02-20T20:59:53.611407Z",
     "shell.execute_reply": "2025-02-20T20:59:53.610386Z"
    },
    "papermill": {
     "duration": 0.031369,
     "end_time": "2025-02-20T20:59:53.613449",
     "exception": false,
     "start_time": "2025-02-20T20:59:53.582080",
     "status": "completed"
    },
    "tags": []
   },
   "outputs": [
    {
     "data": {
      "text/html": [
       "<div>\n",
       "<style scoped>\n",
       "    .dataframe tbody tr th:only-of-type {\n",
       "        vertical-align: middle;\n",
       "    }\n",
       "\n",
       "    .dataframe tbody tr th {\n",
       "        vertical-align: top;\n",
       "    }\n",
       "\n",
       "    .dataframe thead th {\n",
       "        text-align: right;\n",
       "    }\n",
       "</style>\n",
       "<table border=\"1\" class=\"dataframe\">\n",
       "  <thead>\n",
       "    <tr style=\"text-align: right;\">\n",
       "      <th></th>\n",
       "      <th>Date</th>\n",
       "      <th>Price</th>\n",
       "      <th>Open</th>\n",
       "      <th>High</th>\n",
       "      <th>Low</th>\n",
       "      <th>Vol.</th>\n",
       "      <th>Change %</th>\n",
       "    </tr>\n",
       "  </thead>\n",
       "  <tbody>\n",
       "    <tr>\n",
       "      <th>0</th>\n",
       "      <td>2025-02-06</td>\n",
       "      <td>30011.84</td>\n",
       "      <td>29735.59</td>\n",
       "      <td>30011.84</td>\n",
       "      <td>29735.59</td>\n",
       "      <td>83500000.0</td>\n",
       "      <td>0.0093</td>\n",
       "    </tr>\n",
       "    <tr>\n",
       "      <th>1</th>\n",
       "      <td>2025-02-05</td>\n",
       "      <td>29735.59</td>\n",
       "      <td>29668.47</td>\n",
       "      <td>29772.63</td>\n",
       "      <td>29596.50</td>\n",
       "      <td>103710000.0</td>\n",
       "      <td>0.0023</td>\n",
       "    </tr>\n",
       "    <tr>\n",
       "      <th>2</th>\n",
       "      <td>2025-02-04</td>\n",
       "      <td>29668.47</td>\n",
       "      <td>29754.77</td>\n",
       "      <td>29937.39</td>\n",
       "      <td>29668.47</td>\n",
       "      <td>135050000.0</td>\n",
       "      <td>-0.0029</td>\n",
       "    </tr>\n",
       "    <tr>\n",
       "      <th>3</th>\n",
       "      <td>2025-02-03</td>\n",
       "      <td>29754.77</td>\n",
       "      <td>29917.96</td>\n",
       "      <td>30001.23</td>\n",
       "      <td>29698.79</td>\n",
       "      <td>152060000.0</td>\n",
       "      <td>-0.0055</td>\n",
       "    </tr>\n",
       "    <tr>\n",
       "      <th>4</th>\n",
       "      <td>2025-02-02</td>\n",
       "      <td>29917.96</td>\n",
       "      <td>30010.62</td>\n",
       "      <td>30198.22</td>\n",
       "      <td>29917.96</td>\n",
       "      <td>103160000.0</td>\n",
       "      <td>-0.0031</td>\n",
       "    </tr>\n",
       "  </tbody>\n",
       "</table>\n",
       "</div>"
      ],
      "text/plain": [
       "        Date     Price      Open      High       Low         Vol.  Change %\n",
       "0 2025-02-06  30011.84  29735.59  30011.84  29735.59   83500000.0    0.0093\n",
       "1 2025-02-05  29735.59  29668.47  29772.63  29596.50  103710000.0    0.0023\n",
       "2 2025-02-04  29668.47  29754.77  29937.39  29668.47  135050000.0   -0.0029\n",
       "3 2025-02-03  29754.77  29917.96  30001.23  29698.79  152060000.0   -0.0055\n",
       "4 2025-02-02  29917.96  30010.62  30198.22  29917.96  103160000.0   -0.0031"
      ]
     },
     "execution_count": 10,
     "metadata": {},
     "output_type": "execute_result"
    }
   ],
   "source": [
    "df.head()"
   ]
  },
  {
   "cell_type": "code",
   "execution_count": 11,
   "id": "c74da27d",
   "metadata": {
    "execution": {
     "iopub.execute_input": "2025-02-20T20:59:53.627563Z",
     "iopub.status.busy": "2025-02-20T20:59:53.627168Z",
     "iopub.status.idle": "2025-02-20T20:59:53.633178Z",
     "shell.execute_reply": "2025-02-20T20:59:53.632188Z"
    },
    "papermill": {
     "duration": 0.014856,
     "end_time": "2025-02-20T20:59:53.634787",
     "exception": false,
     "start_time": "2025-02-20T20:59:53.619931",
     "status": "completed"
    },
    "tags": []
   },
   "outputs": [
    {
     "name": "stdout",
     "output_type": "stream",
     "text": [
      "\n",
      "Missing 'Vol.' values before imputation: 2200\n"
     ]
    }
   ],
   "source": [
    "# Check how many missing values exist in the Volume column initially.\n",
    "initial_missing = df['Vol.'].isnull().sum()\n",
    "print(\"\\nMissing 'Vol.' values before imputation:\", initial_missing)"
   ]
  },
  {
   "cell_type": "code",
   "execution_count": 12,
   "id": "d59294ff",
   "metadata": {
    "execution": {
     "iopub.execute_input": "2025-02-20T20:59:53.728538Z",
     "iopub.status.busy": "2025-02-20T20:59:53.728161Z",
     "iopub.status.idle": "2025-02-20T20:59:53.736002Z",
     "shell.execute_reply": "2025-02-20T20:59:53.734754Z"
    },
    "papermill": {
     "duration": 0.016705,
     "end_time": "2025-02-20T20:59:53.737721",
     "exception": false,
     "start_time": "2025-02-20T20:59:53.721016",
     "status": "completed"
    },
    "tags": []
   },
   "outputs": [
    {
     "name": "stdout",
     "output_type": "stream",
     "text": [
      "Date           0\n",
      "Price          0\n",
      "Open           0\n",
      "High           0\n",
      "Low            0\n",
      "Vol.        2200\n",
      "Change %       0\n",
      "dtype: int64\n"
     ]
    }
   ],
   "source": [
    "print(df.isnull().sum())"
   ]
  },
  {
   "cell_type": "code",
   "execution_count": 13,
   "id": "36afe160",
   "metadata": {
    "execution": {
     "iopub.execute_input": "2025-02-20T20:59:53.753088Z",
     "iopub.status.busy": "2025-02-20T20:59:53.752701Z",
     "iopub.status.idle": "2025-02-20T20:59:53.761501Z",
     "shell.execute_reply": "2025-02-20T20:59:53.760470Z"
    },
    "papermill": {
     "duration": 0.017926,
     "end_time": "2025-02-20T20:59:53.763285",
     "exception": false,
     "start_time": "2025-02-20T20:59:53.745359",
     "status": "completed"
    },
    "tags": []
   },
   "outputs": [],
   "source": [
    "df.dropna(inplace=True)"
   ]
  },
  {
   "cell_type": "code",
   "execution_count": 14,
   "id": "f1c970a8",
   "metadata": {
    "execution": {
     "iopub.execute_input": "2025-02-20T20:59:53.777899Z",
     "iopub.status.busy": "2025-02-20T20:59:53.777505Z",
     "iopub.status.idle": "2025-02-20T20:59:53.784939Z",
     "shell.execute_reply": "2025-02-20T20:59:53.783944Z"
    },
    "papermill": {
     "duration": 0.016392,
     "end_time": "2025-02-20T20:59:53.786691",
     "exception": false,
     "start_time": "2025-02-20T20:59:53.770299",
     "status": "completed"
    },
    "tags": []
   },
   "outputs": [
    {
     "name": "stdout",
     "output_type": "stream",
     "text": [
      "Date        0\n",
      "Price       0\n",
      "Open        0\n",
      "High        0\n",
      "Low         0\n",
      "Vol.        0\n",
      "Change %    0\n",
      "dtype: int64\n"
     ]
    }
   ],
   "source": [
    "print(df.isnull().sum())"
   ]
  },
  {
   "cell_type": "code",
   "execution_count": 15,
   "id": "39c2f989",
   "metadata": {
    "execution": {
     "iopub.execute_input": "2025-02-20T20:59:53.801012Z",
     "iopub.status.busy": "2025-02-20T20:59:53.800611Z",
     "iopub.status.idle": "2025-02-20T20:59:53.806731Z",
     "shell.execute_reply": "2025-02-20T20:59:53.805594Z"
    },
    "papermill": {
     "duration": 0.014972,
     "end_time": "2025-02-20T20:59:53.808292",
     "exception": false,
     "start_time": "2025-02-20T20:59:53.793320",
     "status": "completed"
    },
    "tags": []
   },
   "outputs": [
    {
     "name": "stdout",
     "output_type": "stream",
     "text": [
      "Date        datetime64[ns]\n",
      "Price              float64\n",
      "Open               float64\n",
      "High               float64\n",
      "Low                float64\n",
      "Vol.               float64\n",
      "Change %           float64\n",
      "dtype: object\n"
     ]
    }
   ],
   "source": [
    "print(df.dtypes)"
   ]
  },
  {
   "cell_type": "code",
   "execution_count": 16,
   "id": "c94839a0",
   "metadata": {
    "execution": {
     "iopub.execute_input": "2025-02-20T20:59:53.822516Z",
     "iopub.status.busy": "2025-02-20T20:59:53.822198Z",
     "iopub.status.idle": "2025-02-20T20:59:53.837944Z",
     "shell.execute_reply": "2025-02-20T20:59:53.836861Z"
    },
    "papermill": {
     "duration": 0.024708,
     "end_time": "2025-02-20T20:59:53.839660",
     "exception": false,
     "start_time": "2025-02-20T20:59:53.814952",
     "status": "completed"
    },
    "tags": []
   },
   "outputs": [
    {
     "data": {
      "text/html": [
       "<div>\n",
       "<style scoped>\n",
       "    .dataframe tbody tr th:only-of-type {\n",
       "        vertical-align: middle;\n",
       "    }\n",
       "\n",
       "    .dataframe tbody tr th {\n",
       "        vertical-align: top;\n",
       "    }\n",
       "\n",
       "    .dataframe thead th {\n",
       "        text-align: right;\n",
       "    }\n",
       "</style>\n",
       "<table border=\"1\" class=\"dataframe\">\n",
       "  <thead>\n",
       "    <tr style=\"text-align: right;\">\n",
       "      <th></th>\n",
       "      <th>Date</th>\n",
       "      <th>Price</th>\n",
       "      <th>Open</th>\n",
       "      <th>High</th>\n",
       "      <th>Low</th>\n",
       "      <th>Vol.</th>\n",
       "      <th>Change %</th>\n",
       "    </tr>\n",
       "  </thead>\n",
       "  <tbody>\n",
       "    <tr>\n",
       "      <th>0</th>\n",
       "      <td>2025-02-06</td>\n",
       "      <td>30011.84</td>\n",
       "      <td>29735.59</td>\n",
       "      <td>30011.84</td>\n",
       "      <td>29735.59</td>\n",
       "      <td>83500000.0</td>\n",
       "      <td>0.0093</td>\n",
       "    </tr>\n",
       "    <tr>\n",
       "      <th>1</th>\n",
       "      <td>2025-02-05</td>\n",
       "      <td>29735.59</td>\n",
       "      <td>29668.47</td>\n",
       "      <td>29772.63</td>\n",
       "      <td>29596.50</td>\n",
       "      <td>103710000.0</td>\n",
       "      <td>0.0023</td>\n",
       "    </tr>\n",
       "    <tr>\n",
       "      <th>2</th>\n",
       "      <td>2025-02-04</td>\n",
       "      <td>29668.47</td>\n",
       "      <td>29754.77</td>\n",
       "      <td>29937.39</td>\n",
       "      <td>29668.47</td>\n",
       "      <td>135050000.0</td>\n",
       "      <td>-0.0029</td>\n",
       "    </tr>\n",
       "    <tr>\n",
       "      <th>3</th>\n",
       "      <td>2025-02-03</td>\n",
       "      <td>29754.77</td>\n",
       "      <td>29917.96</td>\n",
       "      <td>30001.23</td>\n",
       "      <td>29698.79</td>\n",
       "      <td>152060000.0</td>\n",
       "      <td>-0.0055</td>\n",
       "    </tr>\n",
       "    <tr>\n",
       "      <th>4</th>\n",
       "      <td>2025-02-02</td>\n",
       "      <td>29917.96</td>\n",
       "      <td>30010.62</td>\n",
       "      <td>30198.22</td>\n",
       "      <td>29917.96</td>\n",
       "      <td>103160000.0</td>\n",
       "      <td>-0.0031</td>\n",
       "    </tr>\n",
       "    <tr>\n",
       "      <th>...</th>\n",
       "      <td>...</td>\n",
       "      <td>...</td>\n",
       "      <td>...</td>\n",
       "      <td>...</td>\n",
       "      <td>...</td>\n",
       "      <td>...</td>\n",
       "      <td>...</td>\n",
       "    </tr>\n",
       "    <tr>\n",
       "      <th>3928</th>\n",
       "      <td>2008-12-03</td>\n",
       "      <td>3979.71</td>\n",
       "      <td>4014.26</td>\n",
       "      <td>4085.91</td>\n",
       "      <td>3979.71</td>\n",
       "      <td>40440000.0</td>\n",
       "      <td>0.0107</td>\n",
       "    </tr>\n",
       "    <tr>\n",
       "      <th>3929</th>\n",
       "      <td>2008-12-02</td>\n",
       "      <td>3937.66</td>\n",
       "      <td>3886.00</td>\n",
       "      <td>3937.66</td>\n",
       "      <td>3829.44</td>\n",
       "      <td>35650000.0</td>\n",
       "      <td>-0.0211</td>\n",
       "    </tr>\n",
       "    <tr>\n",
       "      <th>3930</th>\n",
       "      <td>2008-12-01</td>\n",
       "      <td>4022.58</td>\n",
       "      <td>4185.59</td>\n",
       "      <td>4185.59</td>\n",
       "      <td>4022.58</td>\n",
       "      <td>36480000.0</td>\n",
       "      <td>-0.0436</td>\n",
       "    </tr>\n",
       "    <tr>\n",
       "      <th>3931</th>\n",
       "      <td>2008-11-30</td>\n",
       "      <td>4205.86</td>\n",
       "      <td>4100.29</td>\n",
       "      <td>4228.08</td>\n",
       "      <td>4100.29</td>\n",
       "      <td>43360000.0</td>\n",
       "      <td>0.0401</td>\n",
       "    </tr>\n",
       "    <tr>\n",
       "      <th>3932</th>\n",
       "      <td>2008-11-27</td>\n",
       "      <td>4043.72</td>\n",
       "      <td>4005.40</td>\n",
       "      <td>4047.04</td>\n",
       "      <td>4005.40</td>\n",
       "      <td>31880000.0</td>\n",
       "      <td>0.0163</td>\n",
       "    </tr>\n",
       "  </tbody>\n",
       "</table>\n",
       "<p>3906 rows × 7 columns</p>\n",
       "</div>"
      ],
      "text/plain": [
       "           Date     Price      Open      High       Low         Vol.  Change %\n",
       "0    2025-02-06  30011.84  29735.59  30011.84  29735.59   83500000.0    0.0093\n",
       "1    2025-02-05  29735.59  29668.47  29772.63  29596.50  103710000.0    0.0023\n",
       "2    2025-02-04  29668.47  29754.77  29937.39  29668.47  135050000.0   -0.0029\n",
       "3    2025-02-03  29754.77  29917.96  30001.23  29698.79  152060000.0   -0.0055\n",
       "4    2025-02-02  29917.96  30010.62  30198.22  29917.96  103160000.0   -0.0031\n",
       "...         ...       ...       ...       ...       ...          ...       ...\n",
       "3928 2008-12-03   3979.71   4014.26   4085.91   3979.71   40440000.0    0.0107\n",
       "3929 2008-12-02   3937.66   3886.00   3937.66   3829.44   35650000.0   -0.0211\n",
       "3930 2008-12-01   4022.58   4185.59   4185.59   4022.58   36480000.0   -0.0436\n",
       "3931 2008-11-30   4205.86   4100.29   4228.08   4100.29   43360000.0    0.0401\n",
       "3932 2008-11-27   4043.72   4005.40   4047.04   4005.40   31880000.0    0.0163\n",
       "\n",
       "[3906 rows x 7 columns]"
      ]
     },
     "execution_count": 16,
     "metadata": {},
     "output_type": "execute_result"
    }
   ],
   "source": [
    "df"
   ]
  },
  {
   "cell_type": "markdown",
   "id": "3200dd79",
   "metadata": {},
   "source": [
    "Detect Outliers"
   ]
  },
  {
   "cell_type": "code",
   "execution_count": 17,
   "id": "3a5b94d9",
   "metadata": {},
   "outputs": [
    {
     "name": "stdout",
     "output_type": "stream",
     "text": [
      "Outliers in Price column:\n",
      "           Date     Price      Open      High       Low         Vol.  Change %\n",
      "0   2025-02-06  30011.84  29735.59  30011.84  29735.59   83500000.0    0.0093\n",
      "1   2025-02-05  29735.59  29668.47  29772.63  29596.50  103710000.0    0.0023\n",
      "2   2025-02-04  29668.47  29754.77  29937.39  29668.47  135050000.0   -0.0029\n",
      "3   2025-02-03  29754.77  29917.96  30001.23  29698.79  152060000.0   -0.0055\n",
      "4   2025-02-02  29917.96  30010.62  30198.22  29917.96  103160000.0   -0.0031\n",
      "..         ...       ...       ...       ...       ...          ...       ...\n",
      "293 2023-11-23  25519.49  25029.57  25563.41  25029.57  329530000.0    0.0196\n",
      "294 2023-11-22  25029.57  24774.04  25098.40  24774.04  227890000.0    0.0103\n",
      "295 2023-11-21  24774.04  24760.02  24774.04  24517.90  216010000.0    0.0006\n",
      "296 2023-11-20  24760.02  24899.59  25337.90  24726.00  242590000.0   -0.0056\n",
      "297 2023-11-19  24899.59  24383.27  24958.79  24383.27  270690000.0    0.0212\n",
      "\n",
      "[282 rows x 7 columns]\n",
      "Outliers in Volume column:\n",
      "            Date     Price      Open      High       Low         Vol.  Change %\n",
      "154  2024-06-26  27500.56  27264.23  27600.92  27238.03  380970000.0    0.0087\n",
      "168  2024-05-30  26922.76  27089.68  27116.25  26683.97  352590000.0   -0.0062\n",
      "184  2024-05-08  25988.93  26429.69  26939.91  25889.58  385040000.0   -0.0167\n",
      "195  2024-04-18  28332.65  29667.71  30072.10  27796.10  385150000.0   -0.0450\n",
      "197  2024-04-16  29400.84  29616.47  29797.23  29387.73  344620000.0   -0.0073\n",
      "...         ...       ...       ...       ...       ...          ...       ...\n",
      "2261 2015-10-27   7534.08   7579.12   7579.12   7516.36  358940000.0   -0.0057\n",
      "2262 2015-10-26   7577.53   7659.63   7664.76   7577.53  437750000.0   -0.0099\n",
      "2264 2015-10-22   7611.03   7682.84   7688.98   7610.89  538180000.0   -0.0076\n",
      "2271 2015-10-12   7650.65   7561.51   7664.16   7561.51  356520000.0    0.0136\n",
      "2654 2014-03-13   8140.05   8094.28   8140.05   8067.02  365500000.0    0.0053\n",
      "\n",
      "[184 rows x 7 columns]\n"
     ]
    }
   ],
   "source": [
    "# Function to detect outliers using the IQR method\n",
    "def detect_outliers_iqr(df, column):\n",
    "    Q1 = df[column].quantile(0.25)  # First quartile (25%)\n",
    "    Q3 = df[column].quantile(0.75)  # Third quartile (75%)\n",
    "    IQR = Q3 - Q1  # Interquartile Range\n",
    "    lower_bound = Q1 - 1.5 * IQR\n",
    "    upper_bound = Q3 + 1.5 * IQR\n",
    "    outliers = df[(df[column] < lower_bound) | (df[column] > upper_bound)]\n",
    "    return outliers\n",
    "\n",
    "# Detect outliers in the \"Price\" column\n",
    "outliers_price = detect_outliers_iqr(df, 'Price')\n",
    "print(\"Outliers in Price column:\\n\", outliers_price)\n",
    "\n",
    "# Detect outliers in Volume column\n",
    "outliers_vol = detect_outliers_iqr(df, 'Vol.')\n",
    "print(\"Outliers in Volume column:\\n\", outliers_vol)"
   ]
  },
  {
   "cell_type": "code",
   "execution_count": 18,
   "id": "a4ea1a77",
   "metadata": {},
   "outputs": [
    {
     "name": "stdout",
     "output_type": "stream",
     "text": [
      "Outliers detected using IQR:\n",
      "          Date     Price      Open      High       Low         Vol.  Change %\n",
      "0   2025-02-06  30011.84  29735.59  30011.84  29735.59   83500000.0    0.0093\n",
      "1   2025-02-05  29735.59  29668.47  29772.63  29596.50  103710000.0    0.0023\n",
      "2   2025-02-04  29668.47  29754.77  29937.39  29668.47  135050000.0   -0.0029\n",
      "3   2025-02-03  29754.77  29917.96  30001.23  29698.79  152060000.0   -0.0055\n",
      "4   2025-02-02  29917.96  30010.62  30198.22  29917.96  103160000.0   -0.0031\n",
      "..         ...       ...       ...       ...       ...          ...       ...\n",
      "293 2023-11-23  25519.49  25029.57  25563.41  25029.57  329530000.0    0.0196\n",
      "294 2023-11-22  25029.57  24774.04  25098.40  24774.04  227890000.0    0.0103\n",
      "295 2023-11-21  24774.04  24760.02  24774.04  24517.90  216010000.0    0.0006\n",
      "296 2023-11-20  24760.02  24899.59  25337.90  24726.00  242590000.0   -0.0056\n",
      "297 2023-11-19  24899.59  24383.27  24958.79  24383.27  270690000.0    0.0212\n",
      "\n",
      "[282 rows x 7 columns]\n"
     ]
    }
   ],
   "source": [
    "# Calculate Q1, Q3, and IQR\n",
    "Q1 = df['Price'].quantile(0.25)\n",
    "Q3 = df['Price'].quantile(0.75)\n",
    "IQR = Q3 - Q1\n",
    "\n",
    "# Define lower and upper bounds for outliers\n",
    "lower_bound = Q1 - 1.5 * IQR\n",
    "upper_bound = Q3 + 1.5 * IQR\n",
    "\n",
    "# Identify outliers\n",
    "outliers_iqr = df[(df['Price'] < lower_bound) | (df['Price'] > upper_bound)]\n",
    "print(\"Outliers detected using IQR:\")\n",
    "print(outliers_iqr)"
   ]
  },
  {
   "cell_type": "code",
   "execution_count": 19,
   "id": "3dee190e",
   "metadata": {},
   "outputs": [
    {
     "name": "stdout",
     "output_type": "stream",
     "text": [
      "Original data shape: (3906, 7)\n",
      "Cleaned data shape: (3722, 7)\n"
     ]
    }
   ],
   "source": [
    "# Function to remove outliers using IQR method\n",
    "def remove_outliers_iqr(df, column):\n",
    "    Q1 = df[column].quantile(0.25)  # 25th percentile\n",
    "    Q3 = df[column].quantile(0.75)  # 75th percentile\n",
    "    IQR = Q3 - Q1  # Interquartile range\n",
    "    lower_bound = Q1 - 1.5 * IQR\n",
    "    upper_bound = Q3 + 1.5 * IQR\n",
    "    return df[(df[column] >= lower_bound) & (df[column] <= upper_bound)]  # Keep only in-range values\n",
    "\n",
    "# Remove outliers from \"Vol.\"\n",
    "data_cleaned = remove_outliers_iqr(df, 'Vol.')\n",
    "\n",
    "# Print before & after removing outliers\n",
    "print(f\"Original data shape: {df.shape}\")\n",
    "print(f\"Cleaned data shape: {data_cleaned.shape}\")\n",
    "\n",
    "# Save the cleaned dataset (optional)\n",
    "data_cleaned.to_csv(\"cleaned_dataset.csv\", index=False)\n"
   ]
  },
  {
   "cell_type": "code",
   "execution_count": 20,
   "id": "9b3637b9",
   "metadata": {},
   "outputs": [
    {
     "data": {
      "image/png": "[encoded data removed]",
      "text/plain": [
       "<Figure size 2000x700 with 1 Axes>"
      ]
     },
     "metadata": {},
     "output_type": "display_data"
    }
   ],
   "source": [
    "import matplotlib.pyplot as plt\n",
    "# outlier\n",
    "plt.style.use('fivethirtyeight')\n",
    "outlier= df.plot(kind='box',figsize=(20,7));\n",
    "plt.xticks(rotation=70);\n",
    "plt.title('Outlier in data');\n"
   ]
  },
  {
   "cell_type": "code",
   "execution_count": 21,
   "id": "88ac460e",
   "metadata": {},
   "outputs": [],
   "source": [
    "# import pandas as pd\n",
    "# from scipy.stats import zscore\n",
    "\n",
    "# # Calculate Z-scores for the 'Price' column\n",
    "# df['Z-Score'] = zscore(df['Vol.'])\n",
    "\n",
    "# # Identify outliers (Z-Score > 3 or Z-Score < -3)\n",
    "# outliers_zscore = df[(df['Z-Score'] > 3) | (df['Z-Score'] < -3)]\n",
    "# print(\"Outliers detected using Z-Score:\")\n",
    "# print(outliers_zscore)"
   ]
  },
  {
   "cell_type": "code",
   "execution_count": 22,
   "id": "a237a56c",
   "metadata": {},
   "outputs": [
    {
     "data": {
      "image/png": "[encoded data removed]",
      "text/plain": [
       "<Figure size 2000x2000 with 2 Axes>"
      ]
     },
     "metadata": {},
     "output_type": "display_data"
    }
   ],
   "source": [
    "import seaborn as sns\n",
    "numerical_features= df.select_dtypes(include=['int64', 'float64']).copy()\n",
    "plt.figure(figsize=(20,20))\n",
    "Correlation_df = df.select_dtypes(include=['int64', 'float64','bool']).copy()\n",
    "sns.heatmap(Correlation_df.corr(), annot= True, linewidths= 0.5,cmap='mako')\n",
    "plt.title('Correlation Heatmap')\n",
    "plt.show()"
   ]
  },
  {
   "cell_type": "markdown",
   "id": "52833c8b",
   "metadata": {},
   "source": [
    "## Normalize Data"
   ]
  },
  {
   "cell_type": "code",
   "execution_count": 23,
   "id": "7dcea72a",
   "metadata": {},
   "outputs": [],
   "source": [
    "from sklearn.preprocessing import MinMaxScaler\n",
    "# LSTMs work better with scaled data, so apply MinMax scaling.\n",
    "scaler = MinMaxScaler(feature_range=(0, 1))\n",
    "scaled_data = scaler.fit_transform(df[['Price', 'Open', 'High', 'Low', 'Vol.']])\n",
    "\n",
    "# Convert back to DataFrame\n",
    "scaled_df = pd.DataFrame(scaled_data, columns=['Price', 'Open', 'High', 'Low', 'Vol.'])\n",
    "scaled_df['Date'] = df['Date'].values  # Keep the Date column\n"
   ]
  },
  {
   "cell_type": "code",
   "execution_count": 24,
   "id": "a2145dda",
   "metadata": {},
   "outputs": [],
   "source": [
    "# We'll use a sequence of past n days (e.g., 60) to predict the next day's price.\n",
    "import numpy as np\n",
    "\n",
    "def create_sequences(data, seq_length=60):\n",
    "    X, y = [], []\n",
    "    for i in range(len(data) - seq_length):\n",
    "        X.append(data[i:i+seq_length])\n",
    "        y.append(data[i+seq_length, 0])  # Predicting 'Price' column\n",
    "    return np.array(X), np.array(y)\n",
    "\n",
    "# Convert DataFrame to NumPy array (excluding Date column)\n",
    "scaled_values = scaled_df.drop(columns=['Date']).values\n",
    "\n",
    "# Define sequence length\n",
    "seq_length = 60\n",
    "\n",
    "# Split data into training (80%) and testing (20%)\n",
    "train_size = int(len(scaled_values) * 0.8)\n",
    "train_data, test_data = scaled_values[:train_size], scaled_values[train_size:]\n",
    "\n",
    "# Create sequences\n",
    "X_train, y_train = create_sequences(train_data, seq_length)\n",
    "X_test, y_test = create_sequences(test_data, seq_length)\n"
   ]
  },
  {
   "cell_type": "markdown",
   "id": "00dcf4b4",
   "metadata": {},
   "source": [
    "## Create Training & Testing Data"
   ]
  },
  {
   "cell_type": "code",
   "execution_count": 25,
   "id": "5d3b8da8",
   "metadata": {},
   "outputs": [],
   "source": [
    "import numpy as np\n",
    "\n",
    "def create_sequences(data, seq_length=60):\n",
    "    X, y = [], []\n",
    "    for i in range(len(data) - seq_length):\n",
    "        X.append(data[i:i+seq_length])\n",
    "        y.append(data[i+seq_length, 0])  # Predicting 'Price' column\n",
    "    return np.array(X), np.array(y)\n",
    "\n",
    "# Convert DataFrame to NumPy array (excluding Date column)\n",
    "scaled_values = scaled_df.drop(columns=['Date']).values\n",
    "\n",
    "# Define sequence length\n",
    "seq_length = 60\n",
    "\n",
    "# Split data into training (80%) and testing (20%)\n",
    "train_size = int(len(scaled_values) * 0.8)\n",
    "train_data, test_data = scaled_values[:train_size], scaled_values[train_size:]\n",
    "\n",
    "# Create sequences\n",
    "X_train, y_train = create_sequences(train_data, seq_length)\n",
    "X_test, y_test = create_sequences(test_data, seq_length)\n"
   ]
  },
  {
   "cell_type": "markdown",
   "id": "209e24f0",
   "metadata": {},
   "source": [
    "## Build the ARIMA Model"
   ]
  },
  {
   "cell_type": "code",
   "execution_count": 27,
   "id": "2a36d950",
   "metadata": {},
   "outputs": [
    {
     "name": "stdout",
     "output_type": "stream",
     "text": [
      "Epoch 1/50\n"
     ]
    },
    {
     "name": "stderr",
     "output_type": "stream",
     "text": [
      "c:\\Users\\ziadh\\AppData\\Local\\Programs\\Python\\Python39\\lib\\site-packages\\keras\\src\\layers\\convolutional\\base_conv.py:107: UserWarning: Do not pass an `input_shape`/`input_dim` argument to a layer. When using Sequential models, prefer using an `Input(shape)` object as the first layer in the model instead.\n",
      "  super().__init__(activity_regularizer=activity_regularizer, **kwargs)\n"
     ]
    },
    {
     "name": "stdout",
     "output_type": "stream",
     "text": [
      "\u001b[1m98/98\u001b[0m \u001b[32m━━━━━━━━━━━━━━━━━━━━\u001b[0m\u001b[37m\u001b[0m \u001b[1m1s\u001b[0m 4ms/step - loss: 0.0323 - val_loss: 3.2276e-04\n",
      "Epoch 2/50\n",
      "\u001b[1m98/98\u001b[0m \u001b[32m━━━━━━━━━━━━━━━━━━━━\u001b[0m\u001b[37m\u001b[0m \u001b[1m0s\u001b[0m 2ms/step - loss: 0.0041 - val_loss: 9.4265e-05\n",
      "Epoch 3/50\n",
      "\u001b[1m98/98\u001b[0m \u001b[32m━━━━━━━━━━━━━━━━━━━━\u001b[0m\u001b[37m\u001b[0m \u001b[1m0s\u001b[0m 2ms/step - loss: 0.0040 - val_loss: 1.3892e-04\n",
      "Epoch 4/50\n",
      "\u001b[1m98/98\u001b[0m \u001b[32m━━━━━━━━━━━━━━━━━━━━\u001b[0m\u001b[37m\u001b[0m \u001b[1m0s\u001b[0m 2ms/step - loss: 0.0036 - val_loss: 2.9119e-04\n",
      "Epoch 5/50\n",
      "\u001b[1m98/98\u001b[0m \u001b[32m━━━━━━━━━━━━━━━━━━━━\u001b[0m\u001b[37m\u001b[0m \u001b[1m0s\u001b[0m 3ms/step - loss: 0.0030 - val_loss: 3.6194e-04\n",
      "Epoch 6/50\n",
      "\u001b[1m98/98\u001b[0m \u001b[32m━━━━━━━━━━━━━━━━━━━━\u001b[0m\u001b[37m\u001b[0m \u001b[1m0s\u001b[0m 2ms/step - loss: 0.0025 - val_loss: 3.8978e-04\n",
      "Epoch 7/50\n",
      "\u001b[1m98/98\u001b[0m \u001b[32m━━━━━━━━━━━━━━━━━━━━\u001b[0m\u001b[37m\u001b[0m \u001b[1m0s\u001b[0m 2ms/step - loss: 0.0025 - val_loss: 4.6554e-04\n",
      "Epoch 8/50\n",
      "\u001b[1m98/98\u001b[0m \u001b[32m━━━━━━━━━━━━━━━━━━━━\u001b[0m\u001b[37m\u001b[0m \u001b[1m0s\u001b[0m 2ms/step - loss: 0.0025 - val_loss: 3.4420e-04\n",
      "Epoch 9/50\n",
      "\u001b[1m98/98\u001b[0m \u001b[32m━━━━━━━━━━━━━━━━━━━━\u001b[0m\u001b[37m\u001b[0m \u001b[1m0s\u001b[0m 2ms/step - loss: 0.0022 - val_loss: 5.4424e-04\n",
      "Epoch 10/50\n",
      "\u001b[1m98/98\u001b[0m \u001b[32m━━━━━━━━━━━━━━━━━━━━\u001b[0m\u001b[37m\u001b[0m \u001b[1m0s\u001b[0m 2ms/step - loss: 0.0024 - val_loss: 2.8358e-04\n",
      "Epoch 11/50\n",
      "\u001b[1m98/98\u001b[0m \u001b[32m━━━━━━━━━━━━━━━━━━━━\u001b[0m\u001b[37m\u001b[0m \u001b[1m0s\u001b[0m 2ms/step - loss: 0.0019 - val_loss: 3.3004e-04\n",
      "Epoch 12/50\n",
      "\u001b[1m98/98\u001b[0m \u001b[32m━━━━━━━━━━━━━━━━━━━━\u001b[0m\u001b[37m\u001b[0m \u001b[1m0s\u001b[0m 2ms/step - loss: 0.0018 - val_loss: 4.1795e-04\n",
      "\u001b[1m25/25\u001b[0m \u001b[32m━━━━━━━━━━━━━━━━━━━━\u001b[0m\u001b[37m\u001b[0m \u001b[1m0s\u001b[0m 3ms/step\n",
      "MAE: 209.95\n",
      "MSE: 84800.35\n",
      "RMSE: 291.20\n",
      "\u001b[1m1/1\u001b[0m \u001b[32m━━━━━━━━━━━━━━━━━━━━\u001b[0m\u001b[37m\u001b[0m \u001b[1m0s\u001b[0m 40ms/step\n",
      "\u001b[1m1/1\u001b[0m \u001b[32m━━━━━━━━━━━━━━━━━━━━\u001b[0m\u001b[37m\u001b[0m \u001b[1m0s\u001b[0m 34ms/step\n",
      "\u001b[1m1/1\u001b[0m \u001b[32m━━━━━━━━━━━━━━━━━━━━\u001b[0m\u001b[37m\u001b[0m \u001b[1m0s\u001b[0m 32ms/step\n",
      "\u001b[1m1/1\u001b[0m \u001b[32m━━━━━━━━━━━━━━━━━━━━\u001b[0m\u001b[37m\u001b[0m \u001b[1m0s\u001b[0m 33ms/step\n",
      "\u001b[1m1/1\u001b[0m \u001b[32m━━━━━━━━━━━━━━━━━━━━\u001b[0m\u001b[37m\u001b[0m \u001b[1m0s\u001b[0m 34ms/step\n",
      "\u001b[1m1/1\u001b[0m \u001b[32m━━━━━━━━━━━━━━━━━━━━\u001b[0m\u001b[37m\u001b[0m \u001b[1m0s\u001b[0m 35ms/step\n",
      "\u001b[1m1/1\u001b[0m \u001b[32m━━━━━━━━━━━━━━━━━━━━\u001b[0m\u001b[37m\u001b[0m \u001b[1m0s\u001b[0m 34ms/step\n",
      "Future Prices: [4467.3247 4515.414  4564.8945 4644.9927 4699.24   4753.9604 4791.047 ]\n"
     ]
    }
   ],
   "source": [
    "import numpy as np\n",
    "import pandas as pd\n",
    "import tensorflow as tf\n",
    "from tensorflow.keras.models import Sequential\n",
    "from tensorflow.keras.layers import Conv1D, Flatten, Dense, Dropout\n",
    "from sklearn.preprocessing import MinMaxScaler\n",
    "from sklearn.metrics import mean_absolute_error, mean_squared_error\n",
    "\n",
    "# Load your stock price dataset (Assuming it's already preprocessed)\n",
    "# data = pd.read_csv(\"stock_prices.csv\")\n",
    "\n",
    "# Extracting the 'Price' column as our target variable (assuming it's the first column)\n",
    "prices = df['Price'].values\n",
    "\n",
    "# Normalize the data\n",
    "scaler = MinMaxScaler()\n",
    "prices_scaled = scaler.fit_transform(prices.reshape(-1, 1)).flatten()\n",
    "\n",
    "# Splitting the dataset into train and test sets\n",
    "train_size = int(len(prices_scaled) * 0.8)\n",
    "train, test = prices_scaled[:train_size], prices_scaled[train_size:]\n",
    "\n",
    "# Reshape data for CNN input\n",
    "seq_length = 5\n",
    "X_train, y_train, X_test, y_test = [], [], [], []\n",
    "for i in range(seq_length, len(train)):\n",
    "    X_train.append(train[i-seq_length:i])\n",
    "    y_train.append(train[i])\n",
    "for i in range(seq_length, len(test)):\n",
    "    X_test.append(test[i-seq_length:i])\n",
    "    y_test.append(test[i])\n",
    "\n",
    "X_train, y_train = np.array(X_train), np.array(y_train)\n",
    "X_test, y_test = np.array(X_test), np.array(y_test)\n",
    "X_train = X_train.reshape((X_train.shape[0], X_train.shape[1], 1))\n",
    "X_test = X_test.reshape((X_test.shape[0], X_test.shape[1], 1))\n",
    "\n",
    "# Build CNN model\n",
    "model = Sequential([\n",
    "    Conv1D(filters=64, kernel_size=3, activation='relu', input_shape=(seq_length, 1)),\n",
    "    Flatten(),\n",
    "    Dense(32, activation='relu'),\n",
    "    Dropout(0.2),\n",
    "    Dense(1)  # Predicting 'Price'\n",
    "])\n",
    "\n",
    "# Compile the model\n",
    "model.compile(optimizer='adam', loss='mean_squared_error')\n",
    "\n",
    "# Train the model\n",
    "history = model.fit(\n",
    "    X_train, y_train,\n",
    "    epochs=50,\n",
    "    batch_size=32,\n",
    "    validation_data=(X_test, y_test),\n",
    "    callbacks=[tf.keras.callbacks.EarlyStopping(monitor='val_loss', patience=10, restore_best_weights=True)]\n",
    ")\n",
    "\n",
    "# Make predictions\n",
    "predictions = model.predict(X_test)\n",
    "\n",
    "# Reverse scaling\n",
    "predicted_prices = scaler.inverse_transform(predictions.reshape(-1, 1)).flatten()\n",
    "actual_prices = scaler.inverse_transform(y_test.reshape(-1, 1)).flatten()\n",
    "\n",
    "# Evaluate the model\n",
    "mae = mean_absolute_error(actual_prices, predicted_prices)\n",
    "mse = mean_squared_error(actual_prices, predicted_prices)\n",
    "rmse = np.sqrt(mse)\n",
    "\n",
    "print(f\"MAE: {mae:.2f}\")\n",
    "print(f\"MSE: {mse:.2f}\")\n",
    "print(f\"RMSE: {rmse:.2f}\")\n",
    "\n",
    "# Function to predict future stock prices using CNN\n",
    "def predict_future_cnn(n_days, model, last_data):\n",
    "    future_predictions = []\n",
    "    last_seq = last_data[-seq_length:].reshape(1, seq_length, 1)\n",
    "    \n",
    "    for _ in range(n_days):\n",
    "        predicted_price = model.predict(last_seq)[0, 0]\n",
    "        future_predictions.append(predicted_price)\n",
    "        last_seq = np.roll(last_seq, -1)\n",
    "        last_seq[0, -1, 0] = predicted_price\n",
    "    \n",
    "    forecast_actual = scaler.inverse_transform(np.array(future_predictions).reshape(-1, 1)).flatten()\n",
    "    return forecast_actual\n",
    "\n",
    "# Predict future stock prices for 7 days\n",
    "future_prices = predict_future_cnn(7, model, prices_scaled)\n",
    "print(\"Future Prices:\", future_prices)\n"
   ]
  },
  {
   "cell_type": "code",
   "execution_count": 28,
   "id": "c4f21368",
   "metadata": {},
   "outputs": [
    {
     "name": "stdout",
     "output_type": "stream",
     "text": [
      "MAE: 209.95\n",
      "MSE: 84800.35\n",
      "RMSE: 291.20\n"
     ]
    }
   ],
   "source": [
    "# Evaluate the ARIMA model\n",
    "mae = mean_absolute_error(actual_prices, predicted_prices)\n",
    "mse = mean_squared_error(actual_prices, predicted_prices)\n",
    "rmse = np.sqrt(mse)\n",
    "\n",
    "print(f\"MAE: {mae:.2f}\")\n",
    "print(f\"MSE: {mse:.2f}\")\n",
    "print(f\"RMSE: {rmse:.2f}\")"
   ]
  }
 ],
 "metadata": {
  "kaggle": {
   "accelerator": "none",
   "dataSources": [
    {
     "datasetId": 6648758,
     "sourceId": 10725099,
     "sourceType": "datasetVersion"
    }
   ],
   "dockerImageVersionId": 30886,
   "isGpuEnabled": false,
   "isInternetEnabled": true,
   "language": "python",
   "sourceType": "notebook"
  },
  "kernelspec": {
   "display_name": "Python 3",
   "language": "python",
   "name": "python3"
  },
  "language_info": {
   "codemirror_mode": {
    "name": "ipython",
    "version": 3
   },
   "file_extension": ".py",
   "mimetype": "text/x-python",
   "name": "python",
   "nbconvert_exporter": "python",
   "pygments_lexer": "ipython3",
   "version": "3.9.10"
  },
  "papermill": {
   "default_parameters": {},
   "duration": 5.175368,
   "end_time": "2025-02-20T20:59:54.548802",
   "environment_variables": {},
   "exception": null,
   "input_path": "__notebook__.ipynb",
   "output_path": "__notebook__.ipynb",
   "parameters": {},
   "start_time": "2025-02-20T20:59:49.373434",
   "version": "2.6.0"
  }
 },
 "nbformat": 4,
 "nbformat_minor": 5
}
